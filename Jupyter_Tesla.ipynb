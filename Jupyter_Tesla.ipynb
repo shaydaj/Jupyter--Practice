{
 "cells": [
  {
   "cell_type": "code",
   "execution_count": 31,
   "id": "42b31325",
   "metadata": {},
   "outputs": [],
   "source": [
    "import numpy as np \n",
    "import pandas as pd\n",
    "import matplotlib.pyplot as plt \n",
    "import seaborn as sns"
   ]
  },
  {
   "cell_type": "code",
   "execution_count": 32,
   "id": "5e53f1b8",
   "metadata": {},
   "outputs": [],
   "source": [
    "df=pd.read_csv(\"tesla.csv\")"
   ]
  },
  {
   "cell_type": "code",
   "execution_count": 33,
   "id": "52e0d846",
   "metadata": {},
   "outputs": [
    {
     "data": {
      "text/html": [
       "<div>\n",
       "<style scoped>\n",
       "    .dataframe tbody tr th:only-of-type {\n",
       "        vertical-align: middle;\n",
       "    }\n",
       "\n",
       "    .dataframe tbody tr th {\n",
       "        vertical-align: top;\n",
       "    }\n",
       "\n",
       "    .dataframe thead th {\n",
       "        text-align: right;\n",
       "    }\n",
       "</style>\n",
       "<table border=\"1\" class=\"dataframe\">\n",
       "  <thead>\n",
       "    <tr style=\"text-align: right;\">\n",
       "      <th></th>\n",
       "      <th>Date</th>\n",
       "      <th>Open</th>\n",
       "      <th>High</th>\n",
       "      <th>Low</th>\n",
       "      <th>Close</th>\n",
       "      <th>Volume</th>\n",
       "      <th>Adj Close</th>\n",
       "    </tr>\n",
       "  </thead>\n",
       "  <tbody>\n",
       "    <tr>\n",
       "      <th>0</th>\n",
       "      <td>6/29/2010</td>\n",
       "      <td>19.000000</td>\n",
       "      <td>25.00</td>\n",
       "      <td>17.540001</td>\n",
       "      <td>23.889999</td>\n",
       "      <td>18766300</td>\n",
       "      <td>23.889999</td>\n",
       "    </tr>\n",
       "    <tr>\n",
       "      <th>1</th>\n",
       "      <td>6/30/2010</td>\n",
       "      <td>25.790001</td>\n",
       "      <td>30.42</td>\n",
       "      <td>23.299999</td>\n",
       "      <td>23.830000</td>\n",
       "      <td>17187100</td>\n",
       "      <td>23.830000</td>\n",
       "    </tr>\n",
       "    <tr>\n",
       "      <th>2</th>\n",
       "      <td>7/1/2010</td>\n",
       "      <td>25.000000</td>\n",
       "      <td>25.92</td>\n",
       "      <td>20.270000</td>\n",
       "      <td>21.959999</td>\n",
       "      <td>8218800</td>\n",
       "      <td>21.959999</td>\n",
       "    </tr>\n",
       "    <tr>\n",
       "      <th>3</th>\n",
       "      <td>7/2/2010</td>\n",
       "      <td>23.000000</td>\n",
       "      <td>23.10</td>\n",
       "      <td>18.709999</td>\n",
       "      <td>19.200001</td>\n",
       "      <td>5139800</td>\n",
       "      <td>19.200001</td>\n",
       "    </tr>\n",
       "    <tr>\n",
       "      <th>4</th>\n",
       "      <td>7/6/2010</td>\n",
       "      <td>20.000000</td>\n",
       "      <td>20.00</td>\n",
       "      <td>15.830000</td>\n",
       "      <td>16.110001</td>\n",
       "      <td>6866900</td>\n",
       "      <td>16.110001</td>\n",
       "    </tr>\n",
       "  </tbody>\n",
       "</table>\n",
       "</div>"
      ],
      "text/plain": [
       "        Date       Open   High        Low      Close    Volume  Adj Close\n",
       "0  6/29/2010  19.000000  25.00  17.540001  23.889999  18766300  23.889999\n",
       "1  6/30/2010  25.790001  30.42  23.299999  23.830000  17187100  23.830000\n",
       "2   7/1/2010  25.000000  25.92  20.270000  21.959999   8218800  21.959999\n",
       "3   7/2/2010  23.000000  23.10  18.709999  19.200001   5139800  19.200001\n",
       "4   7/6/2010  20.000000  20.00  15.830000  16.110001   6866900  16.110001"
      ]
     },
     "execution_count": 33,
     "metadata": {},
     "output_type": "execute_result"
    }
   ],
   "source": [
    "# messing around \n",
    "df.head()"
   ]
  },
  {
   "cell_type": "code",
   "execution_count": 34,
   "id": "1330c2e2",
   "metadata": {},
   "outputs": [
    {
     "name": "stdout",
     "output_type": "stream",
     "text": [
      "<class 'pandas.core.frame.DataFrame'>\n",
      "RangeIndex: 1692 entries, 0 to 1691\n",
      "Data columns (total 7 columns):\n",
      " #   Column     Non-Null Count  Dtype  \n",
      "---  ------     --------------  -----  \n",
      " 0   Date       1692 non-null   object \n",
      " 1   Open       1692 non-null   float64\n",
      " 2   High       1692 non-null   float64\n",
      " 3   Low        1692 non-null   float64\n",
      " 4   Close      1692 non-null   float64\n",
      " 5   Volume     1692 non-null   int64  \n",
      " 6   Adj Close  1692 non-null   float64\n",
      "dtypes: float64(5), int64(1), object(1)\n",
      "memory usage: 92.7+ KB\n"
     ]
    }
   ],
   "source": [
    "df.info()"
   ]
  },
  {
   "cell_type": "code",
   "execution_count": 35,
   "id": "1386fa71",
   "metadata": {},
   "outputs": [
    {
     "data": {
      "text/plain": [
       "Date         0\n",
       "Open         0\n",
       "High         0\n",
       "Low          0\n",
       "Close        0\n",
       "Volume       0\n",
       "Adj Close    0\n",
       "dtype: int64"
      ]
     },
     "execution_count": 35,
     "metadata": {},
     "output_type": "execute_result"
    }
   ],
   "source": [
    "df.isna().sum()"
   ]
  },
  {
   "cell_type": "code",
   "execution_count": 36,
   "id": "eb726085",
   "metadata": {},
   "outputs": [
    {
     "data": {
      "text/plain": [
       "(1692, 7)"
      ]
     },
     "execution_count": 36,
     "metadata": {},
     "output_type": "execute_result"
    }
   ],
   "source": [
    "df.shape"
   ]
  },
  {
   "cell_type": "code",
   "execution_count": 37,
   "id": "d23ac3b5",
   "metadata": {},
   "outputs": [
    {
     "data": {
      "text/html": [
       "<div>\n",
       "<style scoped>\n",
       "    .dataframe tbody tr th:only-of-type {\n",
       "        vertical-align: middle;\n",
       "    }\n",
       "\n",
       "    .dataframe tbody tr th {\n",
       "        vertical-align: top;\n",
       "    }\n",
       "\n",
       "    .dataframe thead th {\n",
       "        text-align: right;\n",
       "    }\n",
       "</style>\n",
       "<table border=\"1\" class=\"dataframe\">\n",
       "  <thead>\n",
       "    <tr style=\"text-align: right;\">\n",
       "      <th></th>\n",
       "      <th>Open</th>\n",
       "      <th>High</th>\n",
       "      <th>Low</th>\n",
       "      <th>Close</th>\n",
       "      <th>Volume</th>\n",
       "      <th>Adj Close</th>\n",
       "    </tr>\n",
       "  </thead>\n",
       "  <tbody>\n",
       "    <tr>\n",
       "      <th>count</th>\n",
       "      <td>1692.000000</td>\n",
       "      <td>1692.000000</td>\n",
       "      <td>1692.000000</td>\n",
       "      <td>1692.000000</td>\n",
       "      <td>1.692000e+03</td>\n",
       "      <td>1692.000000</td>\n",
       "    </tr>\n",
       "    <tr>\n",
       "      <th>mean</th>\n",
       "      <td>132.441572</td>\n",
       "      <td>134.769698</td>\n",
       "      <td>129.996223</td>\n",
       "      <td>132.428658</td>\n",
       "      <td>4.270741e+06</td>\n",
       "      <td>132.428658</td>\n",
       "    </tr>\n",
       "    <tr>\n",
       "      <th>std</th>\n",
       "      <td>94.309923</td>\n",
       "      <td>95.694914</td>\n",
       "      <td>92.855227</td>\n",
       "      <td>94.313187</td>\n",
       "      <td>4.295971e+06</td>\n",
       "      <td>94.313187</td>\n",
       "    </tr>\n",
       "    <tr>\n",
       "      <th>min</th>\n",
       "      <td>16.139999</td>\n",
       "      <td>16.629999</td>\n",
       "      <td>14.980000</td>\n",
       "      <td>15.800000</td>\n",
       "      <td>1.185000e+05</td>\n",
       "      <td>15.800000</td>\n",
       "    </tr>\n",
       "    <tr>\n",
       "      <th>25%</th>\n",
       "      <td>30.000000</td>\n",
       "      <td>30.650000</td>\n",
       "      <td>29.215000</td>\n",
       "      <td>29.884999</td>\n",
       "      <td>1.194350e+06</td>\n",
       "      <td>29.884999</td>\n",
       "    </tr>\n",
       "    <tr>\n",
       "      <th>50%</th>\n",
       "      <td>156.334999</td>\n",
       "      <td>162.370002</td>\n",
       "      <td>153.150002</td>\n",
       "      <td>158.160004</td>\n",
       "      <td>3.180700e+06</td>\n",
       "      <td>158.160004</td>\n",
       "    </tr>\n",
       "    <tr>\n",
       "      <th>75%</th>\n",
       "      <td>220.557495</td>\n",
       "      <td>224.099999</td>\n",
       "      <td>217.119999</td>\n",
       "      <td>220.022503</td>\n",
       "      <td>5.662100e+06</td>\n",
       "      <td>220.022503</td>\n",
       "    </tr>\n",
       "    <tr>\n",
       "      <th>max</th>\n",
       "      <td>287.670013</td>\n",
       "      <td>291.420013</td>\n",
       "      <td>280.399994</td>\n",
       "      <td>286.040009</td>\n",
       "      <td>3.716390e+07</td>\n",
       "      <td>286.040009</td>\n",
       "    </tr>\n",
       "  </tbody>\n",
       "</table>\n",
       "</div>"
      ],
      "text/plain": [
       "              Open         High          Low        Close        Volume  \\\n",
       "count  1692.000000  1692.000000  1692.000000  1692.000000  1.692000e+03   \n",
       "mean    132.441572   134.769698   129.996223   132.428658  4.270741e+06   \n",
       "std      94.309923    95.694914    92.855227    94.313187  4.295971e+06   \n",
       "min      16.139999    16.629999    14.980000    15.800000  1.185000e+05   \n",
       "25%      30.000000    30.650000    29.215000    29.884999  1.194350e+06   \n",
       "50%     156.334999   162.370002   153.150002   158.160004  3.180700e+06   \n",
       "75%     220.557495   224.099999   217.119999   220.022503  5.662100e+06   \n",
       "max     287.670013   291.420013   280.399994   286.040009  3.716390e+07   \n",
       "\n",
       "         Adj Close  \n",
       "count  1692.000000  \n",
       "mean    132.428658  \n",
       "std      94.313187  \n",
       "min      15.800000  \n",
       "25%      29.884999  \n",
       "50%     158.160004  \n",
       "75%     220.022503  \n",
       "max     286.040009  "
      ]
     },
     "execution_count": 37,
     "metadata": {},
     "output_type": "execute_result"
    }
   ],
   "source": [
    "df.describe()"
   ]
  },
  {
   "cell_type": "code",
   "execution_count": 38,
   "id": "a4f792aa",
   "metadata": {},
   "outputs": [
    {
     "data": {
      "text/plain": [
       "Low\n",
       "14.980000     1\n",
       "15.570000     1\n",
       "15.830000     1\n",
       "16.549999     1\n",
       "16.900000     1\n",
       "             ..\n",
       "277.519989    1\n",
       "278.609985    1\n",
       "278.630005    1\n",
       "280.100006    1\n",
       "280.399994    1\n",
       "Name: Low, Length: 1468, dtype: int64"
      ]
     },
     "execution_count": 38,
     "metadata": {},
     "output_type": "execute_result"
    }
   ],
   "source": [
    "df.groupby('Low')['Low'].agg('count')"
   ]
  },
  {
   "cell_type": "code",
   "execution_count": 39,
   "id": "c712a75c",
   "metadata": {},
   "outputs": [],
   "source": [
    "df=df.drop(['Adj Close','Volume','Date'],axis='columns')"
   ]
  },
  {
   "cell_type": "code",
   "execution_count": 40,
   "id": "2a9eaa80",
   "metadata": {},
   "outputs": [
    {
     "data": {
      "text/html": [
       "<div>\n",
       "<style scoped>\n",
       "    .dataframe tbody tr th:only-of-type {\n",
       "        vertical-align: middle;\n",
       "    }\n",
       "\n",
       "    .dataframe tbody tr th {\n",
       "        vertical-align: top;\n",
       "    }\n",
       "\n",
       "    .dataframe thead th {\n",
       "        text-align: right;\n",
       "    }\n",
       "</style>\n",
       "<table border=\"1\" class=\"dataframe\">\n",
       "  <thead>\n",
       "    <tr style=\"text-align: right;\">\n",
       "      <th></th>\n",
       "      <th>Open</th>\n",
       "      <th>High</th>\n",
       "      <th>Low</th>\n",
       "      <th>Close</th>\n",
       "    </tr>\n",
       "  </thead>\n",
       "  <tbody>\n",
       "    <tr>\n",
       "      <th>0</th>\n",
       "      <td>19.000000</td>\n",
       "      <td>25.00</td>\n",
       "      <td>17.540001</td>\n",
       "      <td>23.889999</td>\n",
       "    </tr>\n",
       "    <tr>\n",
       "      <th>1</th>\n",
       "      <td>25.790001</td>\n",
       "      <td>30.42</td>\n",
       "      <td>23.299999</td>\n",
       "      <td>23.830000</td>\n",
       "    </tr>\n",
       "    <tr>\n",
       "      <th>2</th>\n",
       "      <td>25.000000</td>\n",
       "      <td>25.92</td>\n",
       "      <td>20.270000</td>\n",
       "      <td>21.959999</td>\n",
       "    </tr>\n",
       "    <tr>\n",
       "      <th>3</th>\n",
       "      <td>23.000000</td>\n",
       "      <td>23.10</td>\n",
       "      <td>18.709999</td>\n",
       "      <td>19.200001</td>\n",
       "    </tr>\n",
       "    <tr>\n",
       "      <th>4</th>\n",
       "      <td>20.000000</td>\n",
       "      <td>20.00</td>\n",
       "      <td>15.830000</td>\n",
       "      <td>16.110001</td>\n",
       "    </tr>\n",
       "  </tbody>\n",
       "</table>\n",
       "</div>"
      ],
      "text/plain": [
       "        Open   High        Low      Close\n",
       "0  19.000000  25.00  17.540001  23.889999\n",
       "1  25.790001  30.42  23.299999  23.830000\n",
       "2  25.000000  25.92  20.270000  21.959999\n",
       "3  23.000000  23.10  18.709999  19.200001\n",
       "4  20.000000  20.00  15.830000  16.110001"
      ]
     },
     "execution_count": 40,
     "metadata": {},
     "output_type": "execute_result"
    }
   ],
   "source": [
    "df.head()"
   ]
  },
  {
   "cell_type": "code",
   "execution_count": 41,
   "id": "eec48d05",
   "metadata": {},
   "outputs": [],
   "source": [
    "df=df.drop(['Open'],axis='columns')"
   ]
  },
  {
   "cell_type": "code",
   "execution_count": 42,
   "id": "2b92c6a4",
   "metadata": {},
   "outputs": [
    {
     "data": {
      "text/html": [
       "<div>\n",
       "<style scoped>\n",
       "    .dataframe tbody tr th:only-of-type {\n",
       "        vertical-align: middle;\n",
       "    }\n",
       "\n",
       "    .dataframe tbody tr th {\n",
       "        vertical-align: top;\n",
       "    }\n",
       "\n",
       "    .dataframe thead th {\n",
       "        text-align: right;\n",
       "    }\n",
       "</style>\n",
       "<table border=\"1\" class=\"dataframe\">\n",
       "  <thead>\n",
       "    <tr style=\"text-align: right;\">\n",
       "      <th></th>\n",
       "      <th>High</th>\n",
       "      <th>Low</th>\n",
       "      <th>Close</th>\n",
       "    </tr>\n",
       "  </thead>\n",
       "  <tbody>\n",
       "    <tr>\n",
       "      <th>0</th>\n",
       "      <td>25.00</td>\n",
       "      <td>17.540001</td>\n",
       "      <td>23.889999</td>\n",
       "    </tr>\n",
       "    <tr>\n",
       "      <th>1</th>\n",
       "      <td>30.42</td>\n",
       "      <td>23.299999</td>\n",
       "      <td>23.830000</td>\n",
       "    </tr>\n",
       "    <tr>\n",
       "      <th>2</th>\n",
       "      <td>25.92</td>\n",
       "      <td>20.270000</td>\n",
       "      <td>21.959999</td>\n",
       "    </tr>\n",
       "    <tr>\n",
       "      <th>3</th>\n",
       "      <td>23.10</td>\n",
       "      <td>18.709999</td>\n",
       "      <td>19.200001</td>\n",
       "    </tr>\n",
       "    <tr>\n",
       "      <th>4</th>\n",
       "      <td>20.00</td>\n",
       "      <td>15.830000</td>\n",
       "      <td>16.110001</td>\n",
       "    </tr>\n",
       "  </tbody>\n",
       "</table>\n",
       "</div>"
      ],
      "text/plain": [
       "    High        Low      Close\n",
       "0  25.00  17.540001  23.889999\n",
       "1  30.42  23.299999  23.830000\n",
       "2  25.92  20.270000  21.959999\n",
       "3  23.10  18.709999  19.200001\n",
       "4  20.00  15.830000  16.110001"
      ]
     },
     "execution_count": 42,
     "metadata": {},
     "output_type": "execute_result"
    }
   ],
   "source": [
    "df.head() "
   ]
  },
  {
   "cell_type": "code",
   "execution_count": 43,
   "id": "19f09cea",
   "metadata": {},
   "outputs": [],
   "source": [
    "def is_float(x):\n",
    "    try:\n",
    "        float(x)\n",
    "    except: \n",
    "        return False \n",
    "    return True"
   ]
  },
  {
   "cell_type": "code",
   "execution_count": 44,
   "id": "a407a29b",
   "metadata": {},
   "outputs": [
    {
     "data": {
      "text/plain": [
       "0    True\n",
       "1    True\n",
       "2    True\n",
       "3    True\n",
       "4    True\n",
       "Name: Close, dtype: bool"
      ]
     },
     "execution_count": 44,
     "metadata": {},
     "output_type": "execute_result"
    }
   ],
   "source": [
    "df['Close'].apply(is_float).head()"
   ]
  },
  {
   "cell_type": "code",
   "execution_count": 45,
   "id": "506222ff",
   "metadata": {},
   "outputs": [
    {
     "data": {
      "text/plain": [
       "27.420000     4\n",
       "31.490000     3\n",
       "26.500000     3\n",
       "20.540001     3\n",
       "27.120001     3\n",
       "             ..\n",
       "46.970001     1\n",
       "45.450001     1\n",
       "45.590000     1\n",
       "43.299999     1\n",
       "261.500000    1\n",
       "Name: Close, Length: 1528, dtype: int64"
      ]
     },
     "execution_count": 45,
     "metadata": {},
     "output_type": "execute_result"
    }
   ],
   "source": [
    "df['Close'].value_counts()"
   ]
  },
  {
   "cell_type": "code",
   "execution_count": 46,
   "id": "2849bf7c",
   "metadata": {},
   "outputs": [],
   "source": [
    "from sklearn.preprocessing import LabelEncoder\n",
    "labelencoder_Y = LabelEncoder()\n",
    "df.iloc[:,1]=labelencoder_Y.fit_transform(df.iloc[:,1].values)"
   ]
  },
  {
   "cell_type": "code",
   "execution_count": 47,
   "id": "7e09a6eb",
   "metadata": {},
   "outputs": [
    {
     "data": {
      "text/plain": [
       "<seaborn.axisgrid.PairGrid at 0x7f7d065cb970>"
      ]
     },
     "execution_count": 47,
     "metadata": {},
     "output_type": "execute_result"
    },
    {
     "data": {
      "image/png": "[encoded data removed]",
      "text/plain": [
       "<Figure size 415.125x360 with 6 Axes>"
      ]
     },
     "metadata": {
      "needs_background": "light"
     },
     "output_type": "display_data"
    }
   ],
   "source": [
    "sns.pairplot(df.iloc[:,0:3], hue=\"Close\")"
   ]
  },
  {
   "cell_type": "code",
   "execution_count": 48,
   "id": "0ed639ad",
   "metadata": {},
   "outputs": [
    {
     "data": {
      "text/plain": [
       "1528"
      ]
     },
     "execution_count": 48,
     "metadata": {},
     "output_type": "execute_result"
    }
   ],
   "source": [
    "len(df.Close.unique())"
   ]
  },
  {
   "cell_type": "code",
   "execution_count": 49,
   "id": "b8caa0e2",
   "metadata": {},
   "outputs": [],
   "source": [
    "X=df.iloc[:,0:2].values\n",
    "Y=df.iloc[:,1].values"
   ]
  },
  {
   "cell_type": "code",
   "execution_count": 50,
   "id": "ef44c441",
   "metadata": {},
   "outputs": [],
   "source": [
    "from sklearn.model_selection import train_test_split\n",
    "X_train,X_test,Y_train,Y_test=train_test_split(X,Y,test_size=0.20,random_state=0)"
   ]
  },
  {
   "cell_type": "code",
   "execution_count": 51,
   "id": "35beeb84",
   "metadata": {},
   "outputs": [],
   "source": [
    "from sklearn.preprocessing import StandardScaler\n",
    "X_train=StandardScaler().fit_transform(X_train)\n",
    "X_test=StandardScaler().fit_transform(X_test)"
   ]
  },
  {
   "cell_type": "code",
   "execution_count": 52,
   "id": "0de40f6f",
   "metadata": {},
   "outputs": [],
   "source": [
    "def models(X_train,Y_train):\n",
    "    \n",
    "    from sklearn.linear_model import LogisticRegression\n",
    "    log=LogisticRegression(random_state=0)\n",
    "    log.fit(X_train,Y_train)\n",
    "    \n",
    "    from sklearn.ensemble import RandomForestClassifier\n",
    "    forest=RandomForestClassifier(random_state=0,criterion=\"entropy\",n_estimators=10)\n",
    "    forest.fit(X_train,Y_train)\n",
    "    \n",
    "    from sklearn.tree import DecisionTreeClassifier\n",
    "    tree=DecisionTreeClassifier(random_state=0,criterion=\"entropy\")\n",
    "    tree.fit(X_train,Y_train)\n",
    "        \n",
    "    print('[0]logistic regression accuracy:',log.score(X_train,Y_train))\n",
    "    print('[1]Decision tree accuracy:',tree.score(X_train,Y_train))\n",
    "    print('[2]Random forest accuracy:',forest.score(X_train,Y_train))\n",
    "        \n",
    "    return log,tree,forest"
   ]
  },
  {
   "cell_type": "code",
   "execution_count": 53,
   "id": "9ef5cb3b",
   "metadata": {},
   "outputs": [
    {
     "name": "stdout",
     "output_type": "stream",
     "text": [
      "[0]logistic regression accuracy: 0.014781966001478197\n",
      "[1]Decision tree accuracy: 1.0\n",
      "[2]Random forest accuracy: 0.9696969696969697\n"
     ]
    }
   ],
   "source": [
    "model=models(X_train,Y_train)"
   ]
  },
  {
   "cell_type": "code",
   "execution_count": 54,
   "id": "ac6df9f2",
   "metadata": {},
   "outputs": [],
   "source": [
    "# very low accuracy: logistic regression 0.015 with a 0.7 average\n",
    "# Decision tree accuracy: 1.0 and Random forest accuracy: 0.97"
   ]
  },
  {
   "cell_type": "code",
   "execution_count": 55,
   "id": "0bbaa743",
   "metadata": {},
   "outputs": [
    {
     "name": "stdout",
     "output_type": "stream",
     "text": [
      "Predicted values: \n",
      "[ 408 1326  882   34 1439  492  375  492  288 1272  925  662  879  778\n",
      " 1082 1439  555  515 1068 1076  188  617  886  358  468  823  492   41\n",
      " 1090 1082  879  765  735  161 1230  383  322  449  408  492   77  590\n",
      " 1018  408  139  177  304  408  803  701  492 1464  356  848  288  631\n",
      " 1046 1228  866   41  767  492  670   65 1331   65  949 1283 1338  478\n",
      " 1028 1433   41  620 1308 1185  118  383 1278  165  408 1061  721  322\n",
      "  439  408 1145 1283  492 1058  560  299  531 1125 1433  617  940  860\n",
      " 1129  657  713  888 1180  161  504 1454 1439   41 1019  753  574  809\n",
      " 1354  288  504  288  356  288 1433  375  408  297  297  560  902   30\n",
      "  119  947  802  492  408  478 1260  322 1032  139  756  443 1053 1178\n",
      " 1433  778  541 1424  596   65 1423 1153  119  829 1270 1003  954 1219\n",
      "   16  668  905  986  408  587  408 1023  100  882 1214 1301 1396  541\n",
      "  255   65  119 1212  161  587  408  161  920  449  721 1373  119  526\n",
      " 1093   77 1092  801  940  288  526  746 1453 1097  139  118  139  250\n",
      " 1321  649 1316 1273 1248  768  802 1153  574  910 1303  935 1364  237\n",
      "  515  617  262  524 1287  986  262  687  725 1125 1047 1039  860  314\n",
      "  139  543  976  345 1151 1153 1380 1073  910    7  177  728  139  408\n",
      "  408  256  793 1234  492 1203 1456  492  408  408  789  910 1241  322\n",
      " 1287 1256  165  492   16  559 1000 1450  408  845 1082 1041  522  449\n",
      "  492  907 1013 1227   41 1238  443 1031 1393  139 1212  515  984 1456\n",
      "  846 1419  682  846  492 1308  598  873 1354  841  161 1076  375  231\n",
      "  297  237 1153 1243  408  299  260 1111  231  291  288  118 1329 1031\n",
      "  449  584  288 1210  255  845  949  581 1129  118  237  186 1317  732\n",
      "  322  408 1423  118  139  986  623  848  595  288  319  161  784 1243\n",
      "  707  314 1226]\n",
      "Actual values:\n",
      "[ 339 1318  874    1 1432  457  191  481  254 1271  918  644  870  769\n",
      " 1087 1441  539  491 1060 1083   87  605  879  193  447  821  416   17\n",
      " 1080 1078  868  747  732  144 1233  287  239  415  401  398   51  580\n",
      " 1029  343  131  153  284  345  796  684  422 1466  316  844  272  616\n",
      " 1047 1229  859   54  758  399  653   34 1343   39  941 1295 1334  463\n",
      " 1020 1437   42  618 1310 1187  173  297 1276   89  342 1051  720  294\n",
      "  332  372 1140 1281  472 1048  545  279  517 1121 1426  606  933  837\n",
      " 1122  646  699  887 1174   94  483 1459 1438   19 1015  737  567  799\n",
      " 1356  255  485  176  312  267 1436  203  409  275  274  552  889    0\n",
      "   59  938  783  436  369  461 1257  296 1026  109  744  430 1049 1175\n",
      " 1434  766  528 1430  591   40 1427 1161   63  827 1267  993  970 1222\n",
      "    4  654  889  961  387  575  372  969   61  874 1250 1301 1403  527\n",
      "  232   43   68 1213  138  578  395  135  909  412  712 1377   71  511\n",
      " 1089   52 1081  792  934  265  511  731 1455 1100   98  149  108  228\n",
      " 1315  635 1314 1274 1246  761  792 1164  563  892 1305  929 1363  217\n",
      "  497  603  246  508 1284 1005  247  683  710 1124 1035 1034  835  286\n",
      "  131  532  960  320 1147 1154 1386 1067  899    2  152  716  111  359\n",
      "  383  236  781 1231  480 1200 1460  478  327  361  780  887 1242  219\n",
      " 1282 1255   91  414    6  556  997 1447  321  834 1079 1016  506  420\n",
      "  445  900 1008 1223   74 1239  424 1021 1392  123 1208  503  977 1451\n",
      "  831 1418  671  833  476 1307  585  878 1361  831  140 1085  289  209\n",
      "  275  214 1156 1244  373  278  239 1112  206  269  262  160 1328 1022\n",
      "  418  569  169 1221  230  832  932  565 1127   93  215  166 1319  727\n",
      "  304  357 1428  125   86  964  624  830  592  170  300  130  770 1237\n",
      "  694  291 1215]\n"
     ]
    }
   ],
   "source": [
    "pred=model[2].predict(X_test)\n",
    "print('Predicted values: ')\n",
    "print(pred)\n",
    "print('Actual values:')\n",
    "print(Y_test)"
   ]
  },
  {
   "cell_type": "code",
   "execution_count": null,
   "id": "026f20ce",
   "metadata": {},
   "outputs": [],
   "source": []
  },
  {
   "cell_type": "code",
   "execution_count": null,
   "id": "93d7fb12",
   "metadata": {},
   "outputs": [],
   "source": []
  },
  {
   "cell_type": "code",
   "execution_count": null,
   "id": "1f726615",
   "metadata": {},
   "outputs": [],
   "source": []
  },
  {
   "cell_type": "code",
   "execution_count": null,
   "id": "b424f34a",
   "metadata": {},
   "outputs": [],
   "source": []
  },
  {
   "cell_type": "code",
   "execution_count": null,
   "id": "dd21677e",
   "metadata": {},
   "outputs": [],
   "source": []
  }
 ],
 "metadata": {
  "kernelspec": {
   "display_name": "Python 3 (ipykernel)",
   "language": "python",
   "name": "python3"
  },
  "language_info": {
   "codemirror_mode": {
    "name": "ipython",
    "version": 3
   },
   "file_extension": ".py",
   "mimetype": "text/x-python",
   "name": "python",
   "nbconvert_exporter": "python",
   "pygments_lexer": "ipython3",
   "version": "3.9.7"
  }
 },
 "nbformat": 4,
 "nbformat_minor": 5
}
